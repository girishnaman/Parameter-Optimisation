{
  "cells": [
    {
      "cell_type": "markdown",
      "metadata": {
        "colab_type": "text",
        "id": "view-in-github"
      },
      "source": [
        "<a href=\"https://colab.research.google.com/github/IshtdeepSinghSodhi/Parameter-Optimization/blob/main/Parameter_Optimization.ipynb\" target=\"_parent\"><img src=\"https://colab.research.google.com/assets/colab-badge.svg\" alt=\"Open In Colab\"/></a>"
      ]
    },
    {
      "cell_type": "markdown",
      "metadata": {
        "id": "c1XfOlKiULn_"
      },
      "source": [
        "###Importing Necessary Libraries"
      ]
    },
    {
      "cell_type": "code",
      "execution_count": 1,
      "metadata": {
        "id": "B_2gz_a3pZa0"
      },
      "outputs": [],
      "source": [
        "import pandas as pd\n",
        "import numpy as np\n",
        "import matplotlib.pyplot as plt\n",
        "import seaborn as sns\n",
        "%matplotlib inline\n",
        "from sklearn.model_selection import train_test_split, GridSearchCV\n",
        "from sklearn.svm import SVC\n",
        "from sklearn.metrics import accuracy_score\n",
        "from sklearn.preprocessing import StandardScaler\n",
        "from sklearn.model_selection import learning_curve\n",
        "import warnings\n",
        "warnings.filterwarnings('ignore')"
      ]
    },
    {
      "cell_type": "markdown",
      "metadata": {
        "id": "x8yx20maLM1r"
      },
      "source": [
        "###Reading Dataset"
      ]
    },
    {
      "cell_type": "code",
      "execution_count": null,
      "metadata": {
        "colab": {
          "base_uri": "https://localhost:8080/",
          "height": 270
        },
        "id": "hOxdHOSbpbeo",
        "outputId": "8d4079fb-7658-488e-b998-e9ca07334cd8"
      },
      "outputs": [],
      "source": [
        "dataset = pd.read_csv('/content/creditcard.csv')\n",
        "dataset.head()"
      ]
    },
    {
      "cell_type": "markdown",
      "metadata": {
        "id": "W4eBOX7pUVbl"
      },
      "source": [
        "###Pre-Processing of Dataset"
      ]
    },
    {
      "cell_type": "code",
      "execution_count": null,
      "metadata": {
        "colab": {
          "base_uri": "https://localhost:8080/"
        },
        "id": "ZEfCiD6Ar93s",
        "outputId": "114c2fca-ca2e-4873-c54f-a62eef745f59"
      },
      "outputs": [],
      "source": [
        "dataset.shape"
      ]
    },
    {
      "cell_type": "code",
      "execution_count": null,
      "metadata": {
        "colab": {
          "base_uri": "https://localhost:8080/"
        },
        "id": "8BHQbqjjIFrg",
        "outputId": "eef68870-c8d8-41e4-ba20-bd0a36d5f95e"
      },
      "outputs": [],
      "source": [
        "dataset.isnull().sum()"
      ]
    },
    {
      "cell_type": "code",
      "execution_count": 9,
      "metadata": {
        "id": "DJrr7u6Xwbm-"
      },
      "outputs": [],
      "source": [
        "X = dataset.iloc[:,0:-1]\n",
        "y = dataset['fraud']"
      ]
    },
    {
      "cell_type": "code",
      "execution_count": 10,
      "metadata": {
        "colab": {
          "base_uri": "https://localhost:8080/"
        },
        "id": "C-KMtpckIYKr",
        "outputId": "b3551936-2207-47f9-fece-dbd788762175"
      },
      "outputs": [
        {
          "data": {
            "text/plain": [
              "array([[ 0.49714628, -0.19252756,  0.05472179, ...,  1.36114461,\n",
              "        -0.33738015, -1.35696999],\n",
              "       [-0.26049492, -0.19798872, -0.19157165, ..., -0.7346758 ,\n",
              "        -0.33738015, -1.35696999],\n",
              "       [-0.35291133, -0.17262409, -0.51903427, ..., -0.7346758 ,\n",
              "        -0.33738015,  0.73693597],\n",
              "       ...,\n",
              "       [-0.35859652, -0.19629655,  0.90913965, ...,  1.36114461,\n",
              "        -0.33738015,  0.73693597],\n",
              "       [-0.30283718,  0.2328972 ,  0.48575568, ..., -0.7346758 ,\n",
              "        -0.33738015,  0.73693597],\n",
              "       [-0.39824104, -0.08391385, -0.43751971, ..., -0.7346758 ,\n",
              "        -0.33738015,  0.73693597]])"
            ]
          },
          "execution_count": 10,
          "metadata": {},
          "output_type": "execute_result"
        }
      ],
      "source": [
        "ss = StandardScaler()\n",
        "ss.fit_transform(X)"
      ]
    },
    {
      "cell_type": "markdown",
      "metadata": {
        "id": "s2VfCpWjUafO"
      },
      "source": [
        "###Creation of 10 samples with 70-30 ratio of Training and Testing Set"
      ]
    },
    {
      "cell_type": "code",
      "execution_count": 11,
      "metadata": {
        "id": "H7MnfxqttiXl"
      },
      "outputs": [],
      "source": [
        "samples = []\n",
        "for i in range(10):\n",
        "    X_train, X_test, y_train, y_test = train_test_split(X, y, test_size=0.3, random_state=i)\n",
        "    samples.append((X_train, X_test, y_train, y_test))"
      ]
    },
    {
      "cell_type": "code",
      "execution_count": null,
      "metadata": {
        "colab": {
          "base_uri": "https://localhost:8080/"
        },
        "id": "gPp8uFHkMC2D",
        "outputId": "0e2d0dd6-44bb-49f8-9e35-a2565e618e2b"
      },
      "outputs": [],
      "source": [
        "samples"
      ]
    },
    {
      "cell_type": "markdown",
      "metadata": {
        "id": "xbpZpTYpUuTl"
      },
      "source": [
        "### Creation of a Fitness Function"
      ]
    },
    {
      "cell_type": "code",
      "execution_count": 13,
      "metadata": {
        "id": "UEJ2yRAeMOb2"
      },
      "outputs": [],
      "source": [
        "kernels = ['linear', 'poly', 'rbf', 'sigmoid']\n",
        "result = pd.DataFrame(columns=['Sample', 'Best Accuracy', 'Best Kernel', 'Best Nu', 'Best Epsilon'])"
      ]
    },
    {
      "cell_type": "code",
      "execution_count": 14,
      "metadata": {
        "id": "3XHWEfctVUGH"
      },
      "outputs": [],
      "source": [
        "def fitnessFunction(kernel, C, gamma):\n",
        "  svm = SVC(kernel=kernel, C=C, gamma=gamma, max_iter=1000)\n",
        "  svm.fit(X_train, y_train)\n",
        "  y_pred = svm.predict(X_test)\n",
        "  return accuracy_score(y_pred, y_test)"
      ]
    },
    {
      "cell_type": "markdown",
      "metadata": {
        "id": "ZWuJhdBfUzze"
      },
      "source": [
        "### Calling the Function for Every Sample"
      ]
    },
    {
      "cell_type": "code",
      "execution_count": 15,
      "metadata": {
        "colab": {
          "base_uri": "https://localhost:8080/"
        },
        "id": "fjgJ1WVBWsxx",
        "outputId": "1cc6a48c-af40-4d9f-b7c9-2895defd26d2"
      },
      "outputs": [
        {
          "name": "stdout",
          "output_type": "stream",
          "text": [
            "Best Accuracy =  0.9 Best Kernel =  linear Best Nu =  0.79 Best Epsilon =  3.01\n",
            "Best Accuracy =  0.94 Best Kernel =  rbf Best Nu =  5.65 Best Epsilon =  8.52\n",
            "Best Accuracy =  0.96 Best Kernel =  rbf Best Nu =  5.03 Best Epsilon =  0.72\n",
            "Best Accuracy =  0.91 Best Kernel =  poly Best Nu =  2.25 Best Epsilon =  8.07\n",
            "Best Accuracy =  0.95 Best Kernel =  rbf Best Nu =  1.89 Best Epsilon =  5.09\n",
            "Best Accuracy =  0.94 Best Kernel =  rbf Best Nu =  3.01 Best Epsilon =  5.79\n",
            "Best Accuracy =  0.96 Best Kernel =  rbf Best Nu =  9.7 Best Epsilon =  0.29\n",
            "Best Accuracy =  0.94 Best Kernel =  rbf Best Nu =  7.27 Best Epsilon =  5.62\n",
            "Best Accuracy =  0.95 Best Kernel =  rbf Best Nu =  0.42 Best Epsilon =  9.63\n",
            "Best Accuracy =  0.96 Best Kernel =  rbf Best Nu =  9.35 Best Epsilon =  2.12\n"
          ]
        }
      ],
      "source": [
        "from sklearn.preprocessing import LabelEncoder\n",
        "from sklearn.model_selection import train_test_split, GridSearchCV\n",
        "from sklearn.metrics import accuracy_score\n",
        "from sklearn.preprocessing import StandardScaler\n",
        "\n",
        "\n",
        "X_str_cols = data.select_dtypes(include='object').columns\n",
        "y_str_col = data.select_dtypes(include='object').iloc[:, -1].name\n",
        "\n",
        "label_encoders = {}\n",
        "for col in X_str_cols:\n",
        "    le = LabelEncoder()\n",
        "    data[col] = le.fit_transform(data[col])\n",
        "    label_encoders[col] = le\n",
        "le_y = LabelEncoder()\n",
        "data[y_str_col] = le_y.fit_transform(data[y_str_col])\n",
        "label_encoders[y_str_col] = le_y\n",
        "\n",
        "samples = []\n",
        "for i in range(10):\n",
        "    sample = data.sample(frac=0.7)\n",
        "    samples.append(sample)\n",
        "\n",
        "param_grid = {\n",
        "    'kernel': ['linear', 'poly', 'rbf', 'sigmoid'],\n",
        "    'nu': [0.01, 0.1, 0.5, 0.9],\n",
        "    'C': [0.1, 1, 10, 100],\n",
        "}\n",
        "\n",
        "best_params = []\n",
        "best_acc = 0\n",
        "for i, (X, y) in enumerate(samples):\n",
        "    print(f'Sample {i+1}')\n",
        "    X_train, X_test, y_train, y_test = train_test_split(X, y, test_size=0.2, random_state=42)\n",
        "    scaler = StandardScaler()\n",
        "    X_train_scaled = scaler.fit_transform(X_train)\n",
        "    X_test_scaled = scaler.transform(X_test)\n",
        "    svm = SVC()\n",
        "    grid_search = GridSearchCV(svm, param_grid=param_grid, cv=5, scoring='accuracy')\n",
        "    grid_search.fit(X_train_scaled, y_train)\n",
        "    best_svm = grid_search.best_estimator_\n",
        "    y_train_pred = best_svm.predict(X_train_scaled)\n",
        "    y_test_pred = best_svm.predict(X_test_scaled)\n",
        "    train_acc = accuracy_score(y_train, y_train_pred)\n",
        "    test_acc = accuracy_score(y_test, y_test_pred)\n",
        "    print(f'Sample {i+1}:')\n",
        "    print(f'Best kernel: {random_search.best_params_[\"kernel\"]}')\n",
        "    print(f'Best nu: {random_search.best_params_[\"nu\"]}')\n",
        "    print(f'Best C: {random_search.best_params_[\"C\"]}')\n",
        "    y_pred = random_search.predict(X_test_scaled)\n",
        "    accuracy = accuracy_score(y_test, y_pred.round())\n",
        "    print(f'Accuracy: {accuracy:.3f}\\n')\n",
        "    if test_acc > best_acc:\n",
        "        best_acc = test_acc\n",
        "        best_svm_global = best_svm"
      ]
    },
    {
      "cell_type": "markdown",
      "metadata": {
        "id": "JybxcLU4U6Pf"
      },
      "source": [
        "###Creation of a Result Table"
      ]
    },
    {
      "cell_type": "code",
      "execution_count": 16,
      "metadata": {
        "colab": {
          "base_uri": "https://localhost:8080/",
          "height": 106
        },
        "id": "MUpSkOBfcFbV",
        "outputId": "87d92ae9-86cb-42f9-9601-d3da37c1252e"
      },
      "outputs": [
        {
          "data": {
            "text/html": [
              "\n",
              "  <div id=\"df-aa2c3107-a7c3-4831-b687-a276acdd8a83\">\n",
              "    <div class=\"colab-df-container\">\n",
              "      <div>\n",
              "<style scoped>\n",
              "    .dataframe tbody tr th:only-of-type {\n",
              "        vertical-align: middle;\n",
              "    }\n",
              "\n",
              "    .dataframe tbody tr th {\n",
              "        vertical-align: top;\n",
              "    }\n",
              "\n",
              "    .dataframe thead th {\n",
              "        text-align: right;\n",
              "    }\n",
              "</style>\n",
              "<table border=\"1\" class=\"dataframe\">\n",
              "  <thead>\n",
              "    <tr style=\"text-align: right;\">\n",
              "      <th></th>\n",
              "      <th>Sample</th>\n",
              "      <th>Best Accuracy</th>\n",
              "      <th>Best Kernel</th>\n",
              "      <th>Best Nu</th>\n",
              "      <th>Best Epsilon</th>\n",
              "    </tr>\n",
              "  </thead>\n",
              "  <tbody>\n",
              "    <tr>\n",
              "      <th>0</th>\n",
              "      <td>1</td>\n",
              "      <td>0.90</td>\n",
              "      <td>linear</td>\n",
              "      <td>0.79</td>\n",
              "      <td>3.01</td>\n",
              "    </tr>\n",
              "    <tr>\n",
              "      <th>1</th>\n",
              "      <td>2</td>\n",
              "      <td>0.94</td>\n",
              "      <td>rbf</td>\n",
              "      <td>5.65</td>\n",
              "      <td>8.52</td>\n",
              "    </tr>\n",
              "    <tr>\n",
              "      <th>2</th>\n",
              "      <td>3</td>\n",
              "      <td>0.96</td>\n",
              "      <td>rbf</td>\n",
              "      <td>5.03</td>\n",
              "      <td>0.72</td>\n",
              "    </tr>\n",
              "    <tr>\n",
              "      <th>3</th>\n",
              "      <td>4</td>\n",
              "      <td>0.91</td>\n",
              "      <td>poly</td>\n",
              "      <td>2.25</td>\n",
              "      <td>8.07</td>\n",
              "    </tr>\n",
              "    <tr>\n",
              "      <th>4</th>\n",
              "      <td>5</td>\n",
              "      <td>0.95</td>\n",
              "      <td>rbf</td>\n",
              "      <td>1.89</td>\n",
              "      <td>5.09</td>\n",
              "    </tr>\n",
              "    <tr>\n",
              "      <th>5</th>\n",
              "      <td>6</td>\n",
              "      <td>0.94</td>\n",
              "      <td>rbf</td>\n",
              "      <td>3.01</td>\n",
              "      <td>5.79</td>\n",
              "    </tr>\n",
              "    <tr>\n",
              "      <th>6</th>\n",
              "      <td>7</td>\n",
              "      <td>0.96</td>\n",
              "      <td>rbf</td>\n",
              "      <td>9.70</td>\n",
              "      <td>0.29</td>\n",
              "    </tr>\n",
              "    <tr>\n",
              "      <th>7</th>\n",
              "      <td>8</td>\n",
              "      <td>0.94</td>\n",
              "      <td>rbf</td>\n",
              "      <td>7.27</td>\n",
              "      <td>5.62</td>\n",
              "    </tr>\n",
              "    <tr>\n",
              "      <th>8</th>\n",
              "      <td>9</td>\n",
              "      <td>0.95</td>\n",
              "      <td>rbf</td>\n",
              "      <td>0.42</td>\n",
              "      <td>9.63</td>\n",
              "    </tr>\n",
              "    <tr>\n",
              "      <th>9</th>\n",
              "      <td>10</td>\n",
              "      <td>0.96</td>\n",
              "      <td>rbf</td>\n",
              "      <td>9.35</td>\n",
              "      <td>2.12</td>\n",
              "    </tr>\n",
              "  </tbody>\n",
              "</table>\n",
              "</div>\n",
              "      <button class=\"colab-df-convert\" onclick=\"convertToInteractive('df-aa2c3107-a7c3-4831-b687-a276acdd8a83')\"\n",
              "              title=\"Convert this dataframe to an interactive table.\"\n",
              "              style=\"display:none;\">\n",
              "        \n",
              "  <svg xmlns=\"http://www.w3.org/2000/svg\" height=\"24px\"viewBox=\"0 0 24 24\"\n",
              "       width=\"24px\">\n",
              "    <path d=\"M0 0h24v24H0V0z\" fill=\"none\"/>\n",
              "    <path d=\"M18.56 5.44l.94 2.06.94-2.06 2.06-.94-2.06-.94-.94-2.06-.94 2.06-2.06.94zm-11 1L8.5 8.5l.94-2.06 2.06-.94-2.06-.94L8.5 2.5l-.94 2.06-2.06.94zm10 10l.94 2.06.94-2.06 2.06-.94-2.06-.94-.94-2.06-.94 2.06-2.06.94z\"/><path d=\"M17.41 7.96l-1.37-1.37c-.4-.4-.92-.59-1.43-.59-.52 0-1.04.2-1.43.59L10.3 9.45l-7.72 7.72c-.78.78-.78 2.05 0 2.83L4 21.41c.39.39.9.59 1.41.59.51 0 1.02-.2 1.41-.59l7.78-7.78 2.81-2.81c.8-.78.8-2.07 0-2.86zM5.41 20L4 18.59l7.72-7.72 1.47 1.35L5.41 20z\"/>\n",
              "  </svg>\n",
              "      </button>\n",
              "      \n",
              "  <style>\n",
              "    .colab-df-container {\n",
              "      display:flex;\n",
              "      flex-wrap:wrap;\n",
              "      gap: 12px;\n",
              "    }\n",
              "\n",
              "    .colab-df-convert {\n",
              "      background-color: #E8F0FE;\n",
              "      border: none;\n",
              "      border-radius: 50%;\n",
              "      cursor: pointer;\n",
              "      display: none;\n",
              "      fill: #1967D2;\n",
              "      height: 32px;\n",
              "      padding: 0 0 0 0;\n",
              "      width: 32px;\n",
              "    }\n",
              "\n",
              "    .colab-df-convert:hover {\n",
              "      background-color: #E2EBFA;\n",
              "      box-shadow: 0px 1px 2px rgba(60, 64, 67, 0.3), 0px 1px 3px 1px rgba(60, 64, 67, 0.15);\n",
              "      fill: #174EA6;\n",
              "    }\n",
              "\n",
              "    [theme=dark] .colab-df-convert {\n",
              "      background-color: #3B4455;\n",
              "      fill: #D2E3FC;\n",
              "    }\n",
              "\n",
              "    [theme=dark] .colab-df-convert:hover {\n",
              "      background-color: #434B5C;\n",
              "      box-shadow: 0px 1px 3px 1px rgba(0, 0, 0, 0.15);\n",
              "      filter: drop-shadow(0px 1px 2px rgba(0, 0, 0, 0.3));\n",
              "      fill: #FFFFFF;\n",
              "    }\n",
              "  </style>\n",
              "\n",
              "      <script>\n",
              "        const buttonEl =\n",
              "          document.querySelector('#df-aa2c3107-a7c3-4831-b687-a276acdd8a83 button.colab-df-convert');\n",
              "        buttonEl.style.display =\n",
              "          google.colab.kernel.accessAllowed ? 'block' : 'none';\n",
              "\n",
              "        async function convertToInteractive(key) {\n",
              "          const element = document.querySelector('#df-aa2c3107-a7c3-4831-b687-a276acdd8a83');\n",
              "          const dataTable =\n",
              "            await google.colab.kernel.invokeFunction('convertToInteractive',\n",
              "                                                     [key], {});\n",
              "          if (!dataTable) return;\n",
              "\n",
              "          const docLinkHtml = 'Like what you see? Visit the ' +\n",
              "            '<a target=\"_blank\" href=https://colab.research.google.com/notebooks/data_table.ipynb>data table notebook</a>'\n",
              "            + ' to learn more about interactive tables.';\n",
              "          element.innerHTML = '';\n",
              "          dataTable['output_type'] = 'display_data';\n",
              "          await google.colab.output.renderOutput(dataTable, element);\n",
              "          const docLink = document.createElement('div');\n",
              "          docLink.innerHTML = docLinkHtml;\n",
              "          element.appendChild(docLink);\n",
              "        }\n",
              "      </script>\n",
              "    </div>\n",
              "  </div>\n",
              "  "
            ],
            "text/plain": [
              "   Sample  Best Accuracy Best Kernel  Best Nu  Best Epsilon\n",
              "0       1           0.90      linear     0.79          3.01\n",
              "1       2           0.94         rbf     5.65          8.52\n",
              "2       3           0.96         rbf     5.03          0.72\n",
              "3       4           0.91        poly     2.25          8.07\n",
              "4       5           0.95         rbf     1.89          5.09\n",
              "5       6           0.94         rbf     3.01          5.79\n",
              "6       7           0.96         rbf     9.70          0.29\n",
              "7       8           0.94         rbf     7.27          5.62\n",
              "8       9           0.95         rbf     0.42          9.63\n",
              "9      10           0.96         rbf     9.35          2.12"
            ]
          },
          "execution_count": 16,
          "metadata": {},
          "output_type": "execute_result"
        },
        {
          "name": "stdout",
          "output_type": "stream",
          "text": [
            "Error: Runtime no longer has a reference to this dataframe, please re-run this cell and try again.\n",
            "Error: Runtime no longer has a reference to this dataframe, please re-run this cell and try again.\n",
            "Error: Runtime no longer has a reference to this dataframe, please re-run this cell and try again.\n"
          ]
        }
      ],
      "source": [
        "result"
      ]
    },
    {
      "cell_type": "markdown",
      "metadata": {
        "id": "roEQAPDjU9ux"
      },
      "source": [
        "### Plotting of the Convergence Graph/Linear Curve"
      ]
    },
    {
      "cell_type": "code",
      "execution_count": 17,
      "metadata": {
        "id": "HN0vIrNjMHRL"
      },
      "outputs": [],
      "source": [
        "X_train, X_test, y_train, y_test = samples[result['Best Accuracy'].idxmax()]"
      ]
    },
    {
      "cell_type": "code",
      "execution_count": 18,
      "metadata": {
        "id": "DjxAGZsPNCK3"
      },
      "outputs": [],
      "source": [
        "train_sizes, train_scores, test_scores = learning_curve(SVC(kernel=result['Best Kernel'].iloc[result['Best Accuracy'].idxmax()], \n",
        "                                                        C=result['Best Nu'].iloc[result['Best Accuracy'].idxmax()],\n",
        "                                                        gamma=result['Best Epsilon'].iloc[result['Best Accuracy'].idxmax()],\n",
        "                                                        max_iter = 1000), X_train, y_train, cv=10, scoring='accuracy', n_jobs=-1,\n",
        "                                                        train_sizes = np.linspace(0.01, 1.0, 50))"
      ]
    },
    {
      "cell_type": "code",
      "execution_count": 19,
      "metadata": {
        "colab": {
          "base_uri": "https://localhost:8080/"
        },
        "id": "AdFu3OLlP9KM",
        "outputId": "084c7951-0c5d-4c25-b26d-3747a67886c4"
      },
      "outputs": [
        {
          "data": {
            "text/plain": [
              "array([  189,   570,   952,  1334,  1716,  2098,  2480,  2862,  3243,\n",
              "        3625,  4007,  4389,  4771,  5153,  5535,  5916,  6298,  6680,\n",
              "        7062,  7444,  7826,  8208,  8589,  8971,  9353,  9735, 10117,\n",
              "       10499, 10881, 11262, 11644, 12026, 12408, 12790, 13172, 13553,\n",
              "       13935, 14317, 14699, 15081, 15463, 15845, 16227, 16608, 16990,\n",
              "       17372, 17754, 18136, 18518, 18900])"
            ]
          },
          "execution_count": 19,
          "metadata": {},
          "output_type": "execute_result"
        }
      ],
      "source": [
        "train_sizes"
      ]
    },
    {
      "cell_type": "code",
      "execution_count": 20,
      "metadata": {
        "id": "jcTidkqyNRDn"
      },
      "outputs": [],
      "source": [
        "train_mean = np.mean(train_scores, axis=1)\n",
        "test_mean = np.mean(test_scores, axis=1)"
      ]
    },
    {
      "cell_type": "code",
      "execution_count": 21,
      "metadata": {
        "colab": {
          "base_uri": "https://localhost:8080/",
          "height": 564
        },
        "id": "_2jLVvf4PEV4",
        "outputId": "cb248e41-b008-4583-d53d-dbaad79603e8"
      },
      "outputs": [
        {
          "data": {
            "image/png": "[encoded data removed]",
            "text/plain": [
              "<Figure size 1000x600 with 1 Axes>"
            ]
          },
          "metadata": {},
          "output_type": "display_data"
        }
      ],
      "source": [
        "plt.figure(figsize=(10, 6))\n",
        "plt.plot(train_sizes, train_mean, label='Training Score')\n",
        "plt.plot(train_sizes, test_mean, label='Cross-Validation Score')\n",
        "plt.xlabel('Iterations')\n",
        "plt.ylabel('Accuracy')\n",
        "plt.title('Convergence Graph')\n",
        "plt.legend(loc=\"best\")\n",
        "plt.show()"
      ]
    },
    {
      "cell_type": "code",
      "execution_count": null,
      "metadata": {
        "id": "2A8A-uhi8zTB"
      },
      "outputs": [],
      "source": []
    }
  ],
  "metadata": {
    "colab": {
      "include_colab_link": true,
      "provenance": []
    },
    "kernelspec": {
      "display_name": "Python 3",
      "name": "python3"
    },
    "language_info": {
      "name": "python"
    }
  },
  "nbformat": 4,
  "nbformat_minor": 0
}
